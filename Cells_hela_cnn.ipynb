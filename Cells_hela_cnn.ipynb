{
  "nbformat": 4,
  "nbformat_minor": 0,
  "metadata": {
    "accelerator": "GPU",
    "colab": {
      "name": "pattern_project.ipynb",
      "provenance": [],
      "collapsed_sections": []
    },
    "kernelspec": {
      "name": "python3",
      "display_name": "Python 3"
    },
    "metadata": {
      "interpreter": {
        "hash": "301c7787137182448e3c4f83930510adaff6d245896897262e8943bebf44fd86"
      }
    },
    "language_info": {
      "name": "python"
    }
  },
  "cells": [
    {
      "cell_type": "code",
      "metadata": {
        "id": "D2utJIsR0NLl"
      },
      "source": [
        "import numpy as np\n",
        "import pandas as pd \n",
        "import skimage.io as io\n",
        "from skimage.transform import resize\n",
        "import os \n",
        "import matplotlib.pyplot as plt\n",
        "import seaborn as sns\n",
        "import glob"
      ],
      "execution_count": null,
      "outputs": []
    },
    {
      "cell_type": "code",
      "metadata": {
        "colab": {
          "base_uri": "https://localhost:8080/"
        },
        "id": "B_zQGj8xEG3u",
        "outputId": "cc005091-85e3-4fc6-fcce-3fd4f18edd9e"
      },
      "source": [
        "!pip install -U albumentations"
      ],
      "execution_count": null,
      "outputs": [
        {
          "output_type": "stream",
          "text": [
            "Collecting albumentations\n",
            "\u001b[?25l  Downloading https://files.pythonhosted.org/packages/b0/be/3db3cd8af771988748f69eace42047d5edebf01eaa7e1293f3b3f75f989e/albumentations-1.0.0-py3-none-any.whl (98kB)\n",
            "\r\u001b[K     |███▍                            | 10kB 23.1MB/s eta 0:00:01\r\u001b[K     |██████▊                         | 20kB 30.5MB/s eta 0:00:01\r\u001b[K     |██████████                      | 30kB 33.4MB/s eta 0:00:01\r\u001b[K     |█████████████▍                  | 40kB 36.9MB/s eta 0:00:01\r\u001b[K     |████████████████▊               | 51kB 32.2MB/s eta 0:00:01\r\u001b[K     |████████████████████            | 61kB 32.1MB/s eta 0:00:01\r\u001b[K     |███████████████████████▍        | 71kB 28.4MB/s eta 0:00:01\r\u001b[K     |██████████████████████████▊     | 81kB 29.1MB/s eta 0:00:01\r\u001b[K     |██████████████████████████████  | 92kB 29.4MB/s eta 0:00:01\r\u001b[K     |████████████████████████████████| 102kB 10.9MB/s \n",
            "\u001b[?25hRequirement already satisfied, skipping upgrade: scikit-image>=0.16.1 in /usr/local/lib/python3.7/dist-packages (from albumentations) (0.16.2)\n",
            "Requirement already satisfied, skipping upgrade: scipy in /usr/local/lib/python3.7/dist-packages (from albumentations) (1.4.1)\n",
            "Requirement already satisfied, skipping upgrade: numpy>=1.11.1 in /usr/local/lib/python3.7/dist-packages (from albumentations) (1.19.5)\n",
            "Collecting opencv-python-headless>=4.1.1\n",
            "\u001b[?25l  Downloading https://files.pythonhosted.org/packages/c3/35/bfc76533f2274cd3da4e2cf255cd13ab9d7f6fc8990c06911e7f8fcc2130/opencv_python_headless-4.5.2.54-cp37-cp37m-manylinux2014_x86_64.whl (38.2MB)\n",
            "\u001b[K     |████████████████████████████████| 38.2MB 79kB/s \n",
            "\u001b[?25hRequirement already satisfied, skipping upgrade: PyYAML in /usr/local/lib/python3.7/dist-packages (from albumentations) (3.13)\n",
            "Requirement already satisfied, skipping upgrade: PyWavelets>=0.4.0 in /usr/local/lib/python3.7/dist-packages (from scikit-image>=0.16.1->albumentations) (1.1.1)\n",
            "Requirement already satisfied, skipping upgrade: imageio>=2.3.0 in /usr/local/lib/python3.7/dist-packages (from scikit-image>=0.16.1->albumentations) (2.4.1)\n",
            "Requirement already satisfied, skipping upgrade: pillow>=4.3.0 in /usr/local/lib/python3.7/dist-packages (from scikit-image>=0.16.1->albumentations) (7.1.2)\n",
            "Requirement already satisfied, skipping upgrade: matplotlib!=3.0.0,>=2.0.0 in /usr/local/lib/python3.7/dist-packages (from scikit-image>=0.16.1->albumentations) (3.2.2)\n",
            "Requirement already satisfied, skipping upgrade: networkx>=2.0 in /usr/local/lib/python3.7/dist-packages (from scikit-image>=0.16.1->albumentations) (2.5.1)\n",
            "Requirement already satisfied, skipping upgrade: cycler>=0.10 in /usr/local/lib/python3.7/dist-packages (from matplotlib!=3.0.0,>=2.0.0->scikit-image>=0.16.1->albumentations) (0.10.0)\n",
            "Requirement already satisfied, skipping upgrade: python-dateutil>=2.1 in /usr/local/lib/python3.7/dist-packages (from matplotlib!=3.0.0,>=2.0.0->scikit-image>=0.16.1->albumentations) (2.8.1)\n",
            "Requirement already satisfied, skipping upgrade: kiwisolver>=1.0.1 in /usr/local/lib/python3.7/dist-packages (from matplotlib!=3.0.0,>=2.0.0->scikit-image>=0.16.1->albumentations) (1.3.1)\n",
            "Requirement already satisfied, skipping upgrade: pyparsing!=2.0.4,!=2.1.2,!=2.1.6,>=2.0.1 in /usr/local/lib/python3.7/dist-packages (from matplotlib!=3.0.0,>=2.0.0->scikit-image>=0.16.1->albumentations) (2.4.7)\n",
            "Requirement already satisfied, skipping upgrade: decorator<5,>=4.3 in /usr/local/lib/python3.7/dist-packages (from networkx>=2.0->scikit-image>=0.16.1->albumentations) (4.4.2)\n",
            "Requirement already satisfied, skipping upgrade: six in /usr/local/lib/python3.7/dist-packages (from cycler>=0.10->matplotlib!=3.0.0,>=2.0.0->scikit-image>=0.16.1->albumentations) (1.15.0)\n",
            "Installing collected packages: opencv-python-headless, albumentations\n",
            "  Found existing installation: albumentations 0.1.12\n",
            "    Uninstalling albumentations-0.1.12:\n",
            "      Successfully uninstalled albumentations-0.1.12\n",
            "Successfully installed albumentations-1.0.0 opencv-python-headless-4.5.2.54\n"
          ],
          "name": "stdout"
        }
      ]
    },
    {
      "cell_type": "code",
      "metadata": {
        "colab": {
          "base_uri": "https://localhost:8080/"
        },
        "id": "3JiMTveGCHzs",
        "outputId": "7dbce6b2-1a6e-44fa-ff7a-82cb634a2469"
      },
      "source": [
        "from google.colab import drive\n",
        "drive.mount('/content/drive')"
      ],
      "execution_count": null,
      "outputs": [
        {
          "output_type": "stream",
          "text": [
            "Mounted at /content/drive\n"
          ],
          "name": "stdout"
        }
      ]
    },
    {
      "cell_type": "code",
      "metadata": {
        "id": "788ymOeyzdt2"
      },
      "source": [
        "directory = glob.glob('/content/drive/MyDrive/pattern_project/hela/*')"
      ],
      "execution_count": null,
      "outputs": []
    },
    {
      "cell_type": "code",
      "metadata": {
        "colab": {
          "base_uri": "https://localhost:8080/"
        },
        "id": "s6OOws3DBlC3",
        "outputId": "3ec597b7-8594-41bb-8e86-53530fe1719a"
      },
      "source": [
        "directory"
      ],
      "execution_count": null,
      "outputs": [
        {
          "output_type": "execute_result",
          "data": {
            "text/plain": [
              "['/content/drive/MyDrive/pattern_project/hela/actin',\n",
              " '/content/drive/MyDrive/pattern_project/hela/dna',\n",
              " '/content/drive/MyDrive/pattern_project/hela/endosome',\n",
              " '/content/drive/MyDrive/pattern_project/hela/er',\n",
              " '/content/drive/MyDrive/pattern_project/hela/golgia',\n",
              " '/content/drive/MyDrive/pattern_project/hela/golgpp',\n",
              " '/content/drive/MyDrive/pattern_project/hela/lysosome',\n",
              " '/content/drive/MyDrive/pattern_project/hela/microtubules',\n",
              " '/content/drive/MyDrive/pattern_project/hela/mitochondria',\n",
              " '/content/drive/MyDrive/pattern_project/hela/nucleolus']"
            ]
          },
          "metadata": {
            "tags": []
          },
          "execution_count": 5
        }
      ]
    },
    {
      "cell_type": "code",
      "metadata": {
        "id": "qX4PdrBjK5Pc"
      },
      "source": [
        "directory = [i + \"/*\" for i in directory]\n",
        "directory = [glob.glob(i) for i in directory]"
      ],
      "execution_count": null,
      "outputs": []
    },
    {
      "cell_type": "code",
      "metadata": {
        "id": "R7K7VrWJLgj7"
      },
      "source": [
        "img_dir = np.array([])\n",
        "\n",
        "for i in directory:\n",
        "  img_dir = np.concatenate((img_dir, i), axis = 0)"
      ],
      "execution_count": null,
      "outputs": []
    },
    {
      "cell_type": "code",
      "metadata": {
        "colab": {
          "base_uri": "https://localhost:8080/"
        },
        "id": "28C0Z2siNPRq",
        "outputId": "6e84c5d2-b500-4148-f30f-f5f32522ad6d"
      },
      "source": [
        "img_dir[0].endswith(('.tif', '.TIF'))"
      ],
      "execution_count": null,
      "outputs": [
        {
          "output_type": "execute_result",
          "data": {
            "text/plain": [
              "True"
            ]
          },
          "metadata": {
            "tags": []
          },
          "execution_count": 8
        }
      ]
    },
    {
      "cell_type": "code",
      "metadata": {
        "colab": {
          "base_uri": "https://localhost:8080/",
          "height": 35
        },
        "id": "koZ10PmcUM8a",
        "outputId": "66f88d0c-bb01-42df-9f19-257fbe54a96a"
      },
      "source": [
        "img_dir[0].split('/')[-1].split('_')[0]"
      ],
      "execution_count": null,
      "outputs": [
        {
          "output_type": "execute_result",
          "data": {
            "application/vnd.google.colaboratory.intrinsic+json": {
              "type": "string"
            },
            "text/plain": [
              "'actin'"
            ]
          },
          "metadata": {
            "tags": []
          },
          "execution_count": 9
        }
      ]
    },
    {
      "cell_type": "code",
      "metadata": {
        "id": "Tbm09wZbCE8a"
      },
      "source": [
        "labels = []\n",
        "images = []\n",
        "\n",
        "for i in img_dir: \n",
        "  if i.endswith(('.tif', '.TIF')):\n",
        "    #images.append(io.imread(i))\n",
        "    images.append(np.round(resize(io.imread(i), (332, 332), anti_aliasing=True, preserve_range=True)).astype(int))\n",
        "    labels.append(i.split('/')[-1].split('_')[0])\n"
      ],
      "execution_count": null,
      "outputs": []
    },
    {
      "cell_type": "code",
      "metadata": {
        "colab": {
          "base_uri": "https://localhost:8080/",
          "height": 286
        },
        "id": "UkqQQTJM0XHG",
        "outputId": "fe977908-4d57-4e9a-fbb5-d3d8bddd947a"
      },
      "source": [
        "plt.imshow(images[400], cmap='gray')"
      ],
      "execution_count": null,
      "outputs": [
        {
          "output_type": "execute_result",
          "data": {
            "text/plain": [
              "<matplotlib.image.AxesImage at 0x7f0d98c62f90>"
            ]
          },
          "metadata": {
            "tags": []
          },
          "execution_count": 14
        },
        {
          "output_type": "display_data",
          "data": {
            "image/png": "[encoded data removed]",
            "text/plain": [
              "<Figure size 432x288 with 1 Axes>"
            ]
          },
          "metadata": {
            "tags": [],
            "needs_background": "light"
          }
        }
      ]
    },
    {
      "cell_type": "code",
      "metadata": {
        "colab": {
          "base_uri": "https://localhost:8080/"
        },
        "id": "sVfySUvRCE8b",
        "outputId": "8b1c5a74-6404-4819-ee23-da02512e87ee"
      },
      "source": [
        "len(np.unique(labels, axis=0))"
      ],
      "execution_count": null,
      "outputs": [
        {
          "output_type": "execute_result",
          "data": {
            "text/plain": [
              "10"
            ]
          },
          "metadata": {
            "tags": []
          },
          "execution_count": 15
        }
      ]
    },
    {
      "cell_type": "code",
      "metadata": {
        "id": "d_N4JcshCE8b"
      },
      "source": [
        "from sklearn.model_selection import train_test_split \n",
        "from sklearn.metrics import classification_report, confusion_matrix\n",
        "from sklearn.preprocessing import LabelEncoder"
      ],
      "execution_count": null,
      "outputs": []
    },
    {
      "cell_type": "code",
      "metadata": {
        "id": "f7kSIcX7CE8c"
      },
      "source": [
        "lb = LabelEncoder()\n",
        "y = lb.fit_transform(labels)"
      ],
      "execution_count": null,
      "outputs": []
    },
    {
      "cell_type": "code",
      "metadata": {
        "id": "vmjAFrc1CE8c"
      },
      "source": [
        "x = np.array(images)"
      ],
      "execution_count": null,
      "outputs": []
    },
    {
      "cell_type": "code",
      "metadata": {
        "colab": {
          "base_uri": "https://localhost:8080/"
        },
        "id": "V0UH0U-UFiC_",
        "outputId": "49843df9-9a03-475c-ae7f-a3b7cdd01db8"
      },
      "source": [
        "x.shape"
      ],
      "execution_count": null,
      "outputs": [
        {
          "output_type": "execute_result",
          "data": {
            "text/plain": [
              "(862, 332, 332)"
            ]
          },
          "metadata": {
            "tags": []
          },
          "execution_count": 19
        }
      ]
    },
    {
      "cell_type": "code",
      "metadata": {
        "id": "GXaxzSCPAZqR"
      },
      "source": [
        "import albumentations as A"
      ],
      "execution_count": null,
      "outputs": []
    },
    {
      "cell_type": "code",
      "metadata": {
        "id": "q0Yl-QxyEa_X"
      },
      "source": [
        "transform = A.Compose([\n",
        "    A.RandomCrop(width=x[0].shape[0]-50, height=x[0].shape[0]-50),\n",
        "    A.augmentations.transforms.Flip(),\n",
        "    A.RandomBrightnessContrast(p=0.2),\n",
        "    A.augmentations.transforms.Blur(blur_limit=8),\n",
        "    A.augmentations.transforms.GaussNoise()\n",
        "])"
      ],
      "execution_count": null,
      "outputs": []
    },
    {
      "cell_type": "code",
      "metadata": {
        "colab": {
          "base_uri": "https://localhost:8080/",
          "height": 286
        },
        "id": "RGakVga_Ep7e",
        "outputId": "dc94df9f-666d-4255-aa9a-37c3181a7de9"
      },
      "source": [
        "plt.imshow(images[120], cmap='gray')"
      ],
      "execution_count": null,
      "outputs": [
        {
          "output_type": "execute_result",
          "data": {
            "text/plain": [
              "<matplotlib.image.AxesImage at 0x7f0d845dc290>"
            ]
          },
          "metadata": {
            "tags": []
          },
          "execution_count": 22
        },
        {
          "output_type": "display_data",
          "data": {
            "image/png": "[encoded data removed]",
            "text/plain": [
              "<Figure size 432x288 with 1 Axes>"
            ]
          },
          "metadata": {
            "tags": [],
            "needs_background": "light"
          }
        }
      ]
    },
    {
      "cell_type": "code",
      "metadata": {
        "id": "ibT50MQOEvgn"
      },
      "source": [
        "transformed_image_1 = transform(image=x[120])['image']\n",
        "transformed_image_2 = transform(image=x[120])['image']\n",
        "transformed_image_3 = transform(image=x[120])['image']"
      ],
      "execution_count": null,
      "outputs": []
    },
    {
      "cell_type": "code",
      "metadata": {
        "colab": {
          "base_uri": "https://localhost:8080/"
        },
        "id": "__m6rOvEFmVn",
        "outputId": "8cea43f2-11b2-425d-ed3e-b9ae02bc0654"
      },
      "source": [
        "transformed_image_1.shape"
      ],
      "execution_count": null,
      "outputs": [
        {
          "output_type": "execute_result",
          "data": {
            "text/plain": [
              "(282, 282)"
            ]
          },
          "metadata": {
            "tags": []
          },
          "execution_count": 24
        }
      ]
    },
    {
      "cell_type": "code",
      "metadata": {
        "id": "Pu1UD2rDIVBv"
      },
      "source": [
        "x_aug = []\n",
        "y_aug = []\n",
        "\n",
        "for i in range(len(x)):\n",
        "  x_aug.append(np.round((resize(x[i], (x[0].shape[0]-50, x[0].shape[0]-50), anti_aliasing=True, preserve_range=True))).astype(int))\n",
        "  y_aug.append(y[i])\n",
        "\n",
        "  for j in range(3):\n",
        "    x_aug.append(transform(image=x[i])['image'])\n",
        "    y_aug.append(y[i])"
      ],
      "execution_count": null,
      "outputs": []
    },
    {
      "cell_type": "code",
      "metadata": {
        "colab": {
          "base_uri": "https://localhost:8080/",
          "height": 125
        },
        "id": "razHt2wbFBvO",
        "outputId": "02350b76-1a1a-4a5b-84ec-d3eca01ed1c1"
      },
      "source": [
        "plt.subplot(1, 4, 1)\n",
        "plt.imshow(x_aug[480], cmap='gray')\n",
        "\n",
        "plt.subplot(1, 4, 2)\n",
        "plt.imshow(transformed_image_1, cmap='gray')\n",
        "\n",
        "plt.subplot(1, 4, 3)\n",
        "plt.imshow(transformed_image_2, cmap='gray')\n",
        "\n",
        "plt.subplot(1, 4, 4)\n",
        "plt.imshow(transformed_image_3, cmap='gray')\n",
        "\n",
        "plt.show()"
      ],
      "execution_count": null,
      "outputs": [
        {
          "output_type": "display_data",
          "data": {
            "image/png": "[encoded data removed]",
            "text/plain": [
              "<Figure size 432x288 with 4 Axes>"
            ]
          },
          "metadata": {
            "tags": [],
            "needs_background": "light"
          }
        }
      ]
    },
    {
      "cell_type": "code",
      "metadata": {
        "colab": {
          "base_uri": "https://localhost:8080/"
        },
        "id": "xMhkg78iJLYf",
        "outputId": "1372f86d-f223-4383-e1c1-6b15d6693986"
      },
      "source": [
        "np.unique(y_aug, return_counts=True)"
      ],
      "execution_count": null,
      "outputs": [
        {
          "output_type": "execute_result",
          "data": {
            "text/plain": [
              "(array([0, 1, 2, 3, 4, 5, 6, 7, 8, 9]),\n",
              " array([87, 86, 98, 91, 87, 85, 84, 91, 73, 80]))"
            ]
          },
          "metadata": {
            "tags": []
          },
          "execution_count": 252
        }
      ]
    },
    {
      "cell_type": "code",
      "metadata": {
        "colab": {
          "base_uri": "https://localhost:8080/"
        },
        "id": "MfU0WHm7I6Vc",
        "outputId": "f839b666-c333-4217-941b-f7aa81065217"
      },
      "source": [
        "np.unique(y, return_counts=True)"
      ],
      "execution_count": null,
      "outputs": [
        {
          "output_type": "execute_result",
          "data": {
            "text/plain": [
              "(array([0, 1, 2, 3, 4, 5, 6, 7, 8, 9]),\n",
              " array([87, 86, 98, 91, 87, 85, 84, 91, 73, 80]))"
            ]
          },
          "metadata": {
            "tags": []
          },
          "execution_count": 251
        }
      ]
    },
    {
      "cell_type": "code",
      "metadata": {
        "colab": {
          "base_uri": "https://localhost:8080/"
        },
        "id": "NKXDw-btKrxe",
        "outputId": "2173726d-02a2-42df-b4dc-aa34379a8f69"
      },
      "source": [
        "len(x_aug)"
      ],
      "execution_count": null,
      "outputs": [
        {
          "output_type": "execute_result",
          "data": {
            "text/plain": [
              "3448"
            ]
          },
          "metadata": {
            "tags": []
          },
          "execution_count": 126
        }
      ]
    },
    {
      "cell_type": "code",
      "metadata": {
        "colab": {
          "base_uri": "https://localhost:8080/"
        },
        "id": "kWXC1WNMwKr8",
        "outputId": "d2c16665-c0e8-4834-cc28-66799f278533"
      },
      "source": [
        "len(y)"
      ],
      "execution_count": null,
      "outputs": [
        {
          "output_type": "execute_result",
          "data": {
            "text/plain": [
              "862"
            ]
          },
          "metadata": {
            "tags": []
          },
          "execution_count": 153
        }
      ]
    },
    {
      "cell_type": "code",
      "metadata": {
        "id": "0l4iTSncKbvH"
      },
      "source": [
        "x_aug = np.array(x_aug)/255\n",
        "y_aug = np.array(y_aug)"
      ],
      "execution_count": null,
      "outputs": []
    },
    {
      "cell_type": "code",
      "metadata": {
        "id": "4uDAhFkdKhZd"
      },
      "source": [
        "x_new = x_aug\n",
        "y_new = y_aug"
      ],
      "execution_count": null,
      "outputs": []
    },
    {
      "cell_type": "code",
      "metadata": {
        "colab": {
          "base_uri": "https://localhost:8080/"
        },
        "id": "UbV9UqhqCE8d",
        "outputId": "244d37aa-2f84-4b90-b8df-f5b8b8c03d58"
      },
      "source": [
        "x_new = x_new.reshape(len(x_new), x_new.shape[1], x_new.shape[2], 1)\n",
        "x_new.shape"
      ],
      "execution_count": null,
      "outputs": [
        {
          "output_type": "execute_result",
          "data": {
            "text/plain": [
              "(862, 332, 332, 1)"
            ]
          },
          "metadata": {
            "tags": []
          },
          "execution_count": 27
        }
      ]
    },
    {
      "cell_type": "code",
      "metadata": {
        "id": "1ORpoBn-CE8d"
      },
      "source": [
        "X_train, X_test, Y_train, Y_test = train_test_split(x_new, y_new, test_size = 0.15, shuffle=True, random_state=47)"
      ],
      "execution_count": null,
      "outputs": []
    },
    {
      "cell_type": "code",
      "metadata": {
        "id": "M3QIlMxzMr6A"
      },
      "source": [
        "del x_new\n",
        "del y_new\n",
        "\n",
        "del x_aug\n",
        "del y_aug"
      ],
      "execution_count": null,
      "outputs": []
    },
    {
      "cell_type": "code",
      "metadata": {
        "id": "CluUxBw3CE8e"
      },
      "source": [
        "X_train, X_val, Y_train, Y_val = train_test_split(X_train, Y_train, test_size = 0.18, shuffle=True, random_state=47)"
      ],
      "execution_count": null,
      "outputs": []
    },
    {
      "cell_type": "code",
      "metadata": {
        "colab": {
          "base_uri": "https://localhost:8080/"
        },
        "id": "XajLsKUAQxp2",
        "outputId": "cbec9ec3-93f9-4afb-9e9b-fe324ab53aa7"
      },
      "source": [
        "np.unique(Y_train, return_counts=True)"
      ],
      "execution_count": null,
      "outputs": [
        {
          "output_type": "execute_result",
          "data": {
            "text/plain": [
              "(array([0, 1, 2, 3, 4, 5, 6, 7, 8, 9]),\n",
              " array([62, 63, 62, 67, 62, 57, 56, 66, 48, 57]))"
            ]
          },
          "metadata": {
            "tags": []
          },
          "execution_count": 31
        }
      ]
    },
    {
      "cell_type": "code",
      "metadata": {
        "colab": {
          "base_uri": "https://localhost:8080/"
        },
        "id": "T66GD_iLM9sF",
        "outputId": "b0bc33dc-25f8-40d2-cd2b-66fc210d43cf"
      },
      "source": [
        "np.unique(Y_test, return_counts=True)"
      ],
      "execution_count": null,
      "outputs": [
        {
          "output_type": "execute_result",
          "data": {
            "text/plain": [
              "(array([0, 1, 2, 3, 4, 5, 6, 7, 8, 9]),\n",
              " array([13, 14, 18, 11, 11, 12, 11, 15, 14, 11]))"
            ]
          },
          "metadata": {
            "tags": []
          },
          "execution_count": 32
        }
      ]
    },
    {
      "cell_type": "code",
      "metadata": {
        "colab": {
          "base_uri": "https://localhost:8080/"
        },
        "id": "R98kOT-XCE8e",
        "outputId": "b26099eb-ffff-4937-ad68-226c2ca02370"
      },
      "source": [
        "np.unique(Y_val, return_counts=True)"
      ],
      "execution_count": null,
      "outputs": [
        {
          "output_type": "execute_result",
          "data": {
            "text/plain": [
              "(array([0, 1, 2, 3, 4, 5, 6, 7, 8, 9]),\n",
              " array([12,  9, 18, 13, 14, 16, 17, 10, 11, 12]))"
            ]
          },
          "metadata": {
            "tags": []
          },
          "execution_count": 33
        }
      ]
    },
    {
      "cell_type": "code",
      "metadata": {
        "id": "aSzhRQ4sCE8e"
      },
      "source": [
        "from keras import layers\n",
        "from keras import models\n",
        "from keras import optimizers"
      ],
      "execution_count": null,
      "outputs": []
    },
    {
      "cell_type": "code",
      "metadata": {
        "id": "udqfKGBAwqCZ"
      },
      "source": [
        "from tensorflow.keras.models import Sequential, Model \n",
        "from tensorflow.keras.layers import Dense, Input,Lambda ,SeparableConv2D,BatchNormalization,MaxPooling2D,Flatten,Dropout\n",
        "from tensorflow.keras.utils import to_categorical \n",
        "from keras.optimizers import SGD,Adam\n",
        "import tensorflow as tf"
      ],
      "execution_count": null,
      "outputs": []
    },
    {
      "cell_type": "code",
      "metadata": {
        "colab": {
          "base_uri": "https://localhost:8080/"
        },
        "id": "PjVZPHy8NcM2",
        "outputId": "b5399704-d858-4c29-a0aa-2cdc43db5a6f"
      },
      "source": [
        "X_train.shape"
      ],
      "execution_count": null,
      "outputs": [
        {
          "output_type": "execute_result",
          "data": {
            "text/plain": [
              "(600, 332, 332, 1)"
            ]
          },
          "metadata": {
            "tags": []
          },
          "execution_count": 36
        }
      ]
    },
    {
      "cell_type": "code",
      "metadata": {
        "colab": {
          "base_uri": "https://localhost:8080/"
        },
        "id": "WUH9lzZSCE8f",
        "outputId": "6cfdae5a-ab71-4166-eab2-9d1406f078c9"
      },
      "source": [
        "model = models.Sequential()\n",
        "model.add(layers.Conv2D(16, (3, 3), activation='relu', input_shape=X_train[0].shape))\n",
        "model.add(layers.MaxPooling2D((2, 2)))\n",
        "model.add(layers.Conv2D(32, (3, 3), activation='relu'))\n",
        "model.add(layers.MaxPooling2D((2, 2)))\n",
        "model.add(layers.Conv2D(64, (3, 3), activation='relu'))\n",
        "model.add(layers.MaxPooling2D((2, 2)))\n",
        "model.add(layers.Conv2D(128, (3, 3), activation='relu'))\n",
        "model.add(layers.MaxPooling2D((2, 2)))\n",
        "model.add(layers.Conv2D(256, (3, 3), activation='relu'))\n",
        "model.add(layers.MaxPooling2D((2, 2)))\n",
        "model.add(layers.Conv2D(512, (3, 3), activation='relu'))\n",
        "model.add(layers.MaxPooling2D((2, 2)))\n",
        "model.add(layers.Flatten())\n",
        "model.add(layers.Dropout(0.1))\n",
        "model.add(layers.Dense(512, activation='relu'))\n",
        "model.add(layers.Dropout(0.1))\n",
        "model.add(layers.Dense(256, activation='relu'))\n",
        "model.add(layers.Dropout(0.1))\n",
        "model.add(layers.Dense(10, activation='softmax'))\n",
        "model.summary()"
      ],
      "execution_count": null,
      "outputs": [
        {
          "output_type": "stream",
          "text": [
            "Model: \"sequential\"\n",
            "_________________________________________________________________\n",
            "Layer (type)                 Output Shape              Param #   \n",
            "=================================================================\n",
            "conv2d (Conv2D)              (None, 330, 330, 16)      160       \n",
            "_________________________________________________________________\n",
            "max_pooling2d (MaxPooling2D) (None, 165, 165, 16)      0         \n",
            "_________________________________________________________________\n",
            "conv2d_1 (Conv2D)            (None, 163, 163, 32)      4640      \n",
            "_________________________________________________________________\n",
            "max_pooling2d_1 (MaxPooling2 (None, 81, 81, 32)        0         \n",
            "_________________________________________________________________\n",
            "conv2d_2 (Conv2D)            (None, 79, 79, 64)        18496     \n",
            "_________________________________________________________________\n",
            "max_pooling2d_2 (MaxPooling2 (None, 39, 39, 64)        0         \n",
            "_________________________________________________________________\n",
            "conv2d_3 (Conv2D)            (None, 37, 37, 128)       73856     \n",
            "_________________________________________________________________\n",
            "max_pooling2d_3 (MaxPooling2 (None, 18, 18, 128)       0         \n",
            "_________________________________________________________________\n",
            "conv2d_4 (Conv2D)            (None, 16, 16, 256)       295168    \n",
            "_________________________________________________________________\n",
            "max_pooling2d_4 (MaxPooling2 (None, 8, 8, 256)         0         \n",
            "_________________________________________________________________\n",
            "conv2d_5 (Conv2D)            (None, 6, 6, 512)         1180160   \n",
            "_________________________________________________________________\n",
            "max_pooling2d_5 (MaxPooling2 (None, 3, 3, 512)         0         \n",
            "_________________________________________________________________\n",
            "flatten (Flatten)            (None, 4608)              0         \n",
            "_________________________________________________________________\n",
            "dropout (Dropout)            (None, 4608)              0         \n",
            "_________________________________________________________________\n",
            "dense (Dense)                (None, 512)               2359808   \n",
            "_________________________________________________________________\n",
            "dropout_1 (Dropout)          (None, 512)               0         \n",
            "_________________________________________________________________\n",
            "dense_1 (Dense)              (None, 256)               131328    \n",
            "_________________________________________________________________\n",
            "dropout_2 (Dropout)          (None, 256)               0         \n",
            "_________________________________________________________________\n",
            "dense_2 (Dense)              (None, 10)                2570      \n",
            "=================================================================\n",
            "Total params: 4,066,186\n",
            "Trainable params: 4,066,186\n",
            "Non-trainable params: 0\n",
            "_________________________________________________________________\n"
          ],
          "name": "stdout"
        }
      ]
    },
    {
      "cell_type": "code",
      "metadata": {
        "id": "QuQ4pDMjCE8f"
      },
      "source": [
        "model.compile(optimizer = 'adam', loss = 'sparse_categorical_crossentropy', metrics = ['accuracy'])"
      ],
      "execution_count": null,
      "outputs": []
    },
    {
      "cell_type": "code",
      "metadata": {
        "id": "rkPUWwI1CE8g"
      },
      "source": [
        "callbacks = [tf.keras.callbacks.ModelCheckpoint('/content/drive/MyDrive/pattern_project/habd_model.h5', monitor='val_accuracy', verbose=1, save_best_only=True, mode='max')]\n",
        "callbacks += [tf.keras.callbacks.EarlyStopping(monitor='val_accuracy',patience=5)]"
      ],
      "execution_count": null,
      "outputs": []
    },
    {
      "cell_type": "code",
      "metadata": {
        "colab": {
          "base_uri": "https://localhost:8080/"
        },
        "id": "9RVU3plICE8h",
        "outputId": "db00d0e1-2f2a-4df4-d61e-d9c0a3e9bfb1"
      },
      "source": [
        "model.fit(X_train, Y_train, validation_data= (X_val, Y_val), epochs = 50, batch_size= 128, shuffle = True, callbacks=callbacks)"
      ],
      "execution_count": null,
      "outputs": [
        {
          "output_type": "stream",
          "text": [
            "Epoch 1/50\n",
            "19/19 [==============================] - 55s 449ms/step - loss: 4.3033 - accuracy: 0.1374 - val_loss: 1.9717 - val_accuracy: 0.3523\n",
            "\n",
            "Epoch 00001: val_accuracy improved from -inf to 0.35227, saving model to /content/drive/MyDrive/pattern_project/habd_model.h5\n",
            "Epoch 2/50\n",
            "19/19 [==============================] - 4s 235ms/step - loss: 1.7531 - accuracy: 0.3436 - val_loss: 1.2284 - val_accuracy: 0.4848\n",
            "\n",
            "Epoch 00002: val_accuracy improved from 0.35227 to 0.48485, saving model to /content/drive/MyDrive/pattern_project/habd_model.h5\n",
            "Epoch 3/50\n",
            "19/19 [==============================] - 4s 236ms/step - loss: 1.2453 - accuracy: 0.5081 - val_loss: 1.0638 - val_accuracy: 0.5625\n",
            "\n",
            "Epoch 00003: val_accuracy improved from 0.48485 to 0.56250, saving model to /content/drive/MyDrive/pattern_project/habd_model.h5\n",
            "Epoch 4/50\n",
            "19/19 [==============================] - 4s 236ms/step - loss: 1.0040 - accuracy: 0.6104 - val_loss: 0.8156 - val_accuracy: 0.6837\n",
            "\n",
            "Epoch 00004: val_accuracy improved from 0.56250 to 0.68371, saving model to /content/drive/MyDrive/pattern_project/habd_model.h5\n",
            "Epoch 5/50\n",
            "19/19 [==============================] - 4s 237ms/step - loss: 0.7919 - accuracy: 0.6902 - val_loss: 0.7992 - val_accuracy: 0.6818\n",
            "\n",
            "Epoch 00005: val_accuracy did not improve from 0.68371\n",
            "Epoch 6/50\n",
            "19/19 [==============================] - 5s 239ms/step - loss: 0.7485 - accuracy: 0.7082 - val_loss: 0.8071 - val_accuracy: 0.6875\n",
            "\n",
            "Epoch 00006: val_accuracy improved from 0.68371 to 0.68750, saving model to /content/drive/MyDrive/pattern_project/habd_model.h5\n",
            "Epoch 7/50\n",
            "19/19 [==============================] - 5s 239ms/step - loss: 0.7023 - accuracy: 0.7355 - val_loss: 0.8105 - val_accuracy: 0.6989\n",
            "\n",
            "Epoch 00007: val_accuracy improved from 0.68750 to 0.69886, saving model to /content/drive/MyDrive/pattern_project/habd_model.h5\n",
            "Epoch 8/50\n",
            "19/19 [==============================] - 4s 238ms/step - loss: 0.6110 - accuracy: 0.7521 - val_loss: 0.6200 - val_accuracy: 0.7708\n",
            "\n",
            "Epoch 00008: val_accuracy improved from 0.69886 to 0.77083, saving model to /content/drive/MyDrive/pattern_project/habd_model.h5\n",
            "Epoch 9/50\n",
            "19/19 [==============================] - 5s 254ms/step - loss: 0.4364 - accuracy: 0.8334 - val_loss: 0.7328 - val_accuracy: 0.7273\n",
            "\n",
            "Epoch 00009: val_accuracy did not improve from 0.77083\n",
            "Epoch 10/50\n",
            "19/19 [==============================] - 5s 239ms/step - loss: 0.4722 - accuracy: 0.8154 - val_loss: 0.7094 - val_accuracy: 0.7235\n",
            "\n",
            "Epoch 00010: val_accuracy did not improve from 0.77083\n",
            "Epoch 11/50\n",
            "19/19 [==============================] - 4s 237ms/step - loss: 0.4009 - accuracy: 0.8510 - val_loss: 0.7060 - val_accuracy: 0.7500\n",
            "\n",
            "Epoch 00011: val_accuracy did not improve from 0.77083\n",
            "Epoch 12/50\n",
            "19/19 [==============================] - 5s 238ms/step - loss: 0.2812 - accuracy: 0.8926 - val_loss: 0.6586 - val_accuracy: 0.7689\n",
            "\n",
            "Epoch 00012: val_accuracy did not improve from 0.77083\n",
            "Epoch 13/50\n",
            "19/19 [==============================] - 4s 237ms/step - loss: 0.2389 - accuracy: 0.9074 - val_loss: 0.6524 - val_accuracy: 0.7898\n",
            "\n",
            "Epoch 00013: val_accuracy improved from 0.77083 to 0.78977, saving model to /content/drive/MyDrive/pattern_project/habd_model.h5\n",
            "Epoch 14/50\n",
            "19/19 [==============================] - 4s 237ms/step - loss: 0.2036 - accuracy: 0.9277 - val_loss: 0.6498 - val_accuracy: 0.8011\n",
            "\n",
            "Epoch 00014: val_accuracy improved from 0.78977 to 0.80114, saving model to /content/drive/MyDrive/pattern_project/habd_model.h5\n",
            "Epoch 15/50\n",
            "19/19 [==============================] - 5s 239ms/step - loss: 0.1989 - accuracy: 0.9305 - val_loss: 0.7413 - val_accuracy: 0.7633\n",
            "\n",
            "Epoch 00015: val_accuracy did not improve from 0.80114\n",
            "Epoch 16/50\n",
            "19/19 [==============================] - 5s 239ms/step - loss: 0.2536 - accuracy: 0.9015 - val_loss: 0.6207 - val_accuracy: 0.7765\n",
            "\n",
            "Epoch 00016: val_accuracy did not improve from 0.80114\n",
            "Epoch 17/50\n",
            "19/19 [==============================] - 5s 238ms/step - loss: 0.1772 - accuracy: 0.9328 - val_loss: 0.7562 - val_accuracy: 0.7708\n",
            "\n",
            "Epoch 00017: val_accuracy did not improve from 0.80114\n",
            "Epoch 18/50\n",
            "19/19 [==============================] - 5s 239ms/step - loss: 0.1355 - accuracy: 0.9562 - val_loss: 0.5874 - val_accuracy: 0.8333\n",
            "\n",
            "Epoch 00018: val_accuracy improved from 0.80114 to 0.83333, saving model to /content/drive/MyDrive/pattern_project/habd_model.h5\n",
            "Epoch 19/50\n",
            "19/19 [==============================] - 5s 239ms/step - loss: 0.0836 - accuracy: 0.9722 - val_loss: 0.5744 - val_accuracy: 0.8371\n",
            "\n",
            "Epoch 00019: val_accuracy improved from 0.83333 to 0.83712, saving model to /content/drive/MyDrive/pattern_project/habd_model.h5\n",
            "Epoch 20/50\n",
            "19/19 [==============================] - 5s 242ms/step - loss: 0.0663 - accuracy: 0.9771 - val_loss: 0.5649 - val_accuracy: 0.8352\n",
            "\n",
            "Epoch 00020: val_accuracy did not improve from 0.83712\n",
            "Epoch 21/50\n",
            "19/19 [==============================] - 5s 241ms/step - loss: 0.0433 - accuracy: 0.9874 - val_loss: 0.7062 - val_accuracy: 0.8371\n",
            "\n",
            "Epoch 00021: val_accuracy did not improve from 0.83712\n",
            "Epoch 22/50\n",
            "19/19 [==============================] - 5s 243ms/step - loss: 0.0911 - accuracy: 0.9695 - val_loss: 0.7702 - val_accuracy: 0.8144\n",
            "\n",
            "Epoch 00022: val_accuracy did not improve from 0.83712\n",
            "Epoch 23/50\n",
            "19/19 [==============================] - 5s 244ms/step - loss: 0.1048 - accuracy: 0.9631 - val_loss: 0.5824 - val_accuracy: 0.8390\n",
            "\n",
            "Epoch 00023: val_accuracy improved from 0.83712 to 0.83902, saving model to /content/drive/MyDrive/pattern_project/habd_model.h5\n",
            "Epoch 24/50\n",
            "19/19 [==============================] - 5s 243ms/step - loss: 0.0996 - accuracy: 0.9619 - val_loss: 0.8595 - val_accuracy: 0.7992\n",
            "\n",
            "Epoch 00024: val_accuracy did not improve from 0.83902\n",
            "Epoch 25/50\n",
            "19/19 [==============================] - 5s 241ms/step - loss: 0.0926 - accuracy: 0.9668 - val_loss: 0.6915 - val_accuracy: 0.8182\n",
            "\n",
            "Epoch 00025: val_accuracy did not improve from 0.83902\n",
            "Epoch 26/50\n",
            "19/19 [==============================] - 5s 242ms/step - loss: 0.0531 - accuracy: 0.9810 - val_loss: 0.5970 - val_accuracy: 0.8561\n",
            "\n",
            "Epoch 00026: val_accuracy improved from 0.83902 to 0.85606, saving model to /content/drive/MyDrive/pattern_project/habd_model.h5\n",
            "Epoch 27/50\n",
            "19/19 [==============================] - 5s 244ms/step - loss: 0.0503 - accuracy: 0.9826 - val_loss: 0.6002 - val_accuracy: 0.8712\n",
            "\n",
            "Epoch 00027: val_accuracy improved from 0.85606 to 0.87121, saving model to /content/drive/MyDrive/pattern_project/habd_model.h5\n",
            "Epoch 28/50\n",
            "19/19 [==============================] - 5s 242ms/step - loss: 0.0500 - accuracy: 0.9804 - val_loss: 0.5880 - val_accuracy: 0.8617\n",
            "\n",
            "Epoch 00028: val_accuracy did not improve from 0.87121\n",
            "Epoch 29/50\n",
            "19/19 [==============================] - 5s 241ms/step - loss: 0.0229 - accuracy: 0.9913 - val_loss: 0.6690 - val_accuracy: 0.8561\n",
            "\n",
            "Epoch 00029: val_accuracy did not improve from 0.87121\n",
            "Epoch 30/50\n",
            "19/19 [==============================] - 5s 244ms/step - loss: 0.0222 - accuracy: 0.9948 - val_loss: 0.7239 - val_accuracy: 0.8523\n",
            "\n",
            "Epoch 00030: val_accuracy did not improve from 0.87121\n",
            "Epoch 31/50\n",
            "19/19 [==============================] - 5s 240ms/step - loss: 0.0106 - accuracy: 0.9982 - val_loss: 0.8815 - val_accuracy: 0.8466\n",
            "\n",
            "Epoch 00031: val_accuracy did not improve from 0.87121\n",
            "Epoch 32/50\n",
            "19/19 [==============================] - 5s 243ms/step - loss: 0.0561 - accuracy: 0.9820 - val_loss: 0.6777 - val_accuracy: 0.8352\n",
            "\n",
            "Epoch 00032: val_accuracy did not improve from 0.87121\n"
          ],
          "name": "stdout"
        },
        {
          "output_type": "execute_result",
          "data": {
            "text/plain": [
              "<keras.callbacks.History at 0x7f302004f0d0>"
            ]
          },
          "metadata": {
            "tags": []
          },
          "execution_count": 53
        }
      ]
    },
    {
      "cell_type": "code",
      "metadata": {
        "id": "HmlMD0ZDRJUk"
      },
      "source": [
        "n_model = models.load_model('/content/drive/MyDrive/pattern_project/norm_model_val.h5')"
      ],
      "execution_count": null,
      "outputs": []
    },
    {
      "cell_type": "code",
      "metadata": {
        "colab": {
          "base_uri": "https://localhost:8080/"
        },
        "id": "ISxrDNBZdJH8",
        "outputId": "c3ff921b-2335-43d9-ceaf-e55209b98691"
      },
      "source": [
        "n_model.evaluate(X_test, Y_test)"
      ],
      "execution_count": null,
      "outputs": [
        {
          "output_type": "stream",
          "text": [
            "5/5 [==============================] - 0s 76ms/step - loss: 0.0576 - accuracy: 0.9769\n"
          ],
          "name": "stdout"
        },
        {
          "output_type": "execute_result",
          "data": {
            "text/plain": [
              "[0.05755745992064476, 0.9769230484962463]"
            ]
          },
          "metadata": {
            "tags": []
          },
          "execution_count": 40
        }
      ]
    },
    {
      "cell_type": "code",
      "metadata": {
        "colab": {
          "base_uri": "https://localhost:8080/"
        },
        "id": "FVpoQTmDh-i5",
        "outputId": "81a862c0-6231-4eab-aa05-bef9965d8105"
      },
      "source": [
        "n_model.evaluate(x.reshape(-1, 332, 332, 1)/255, y)"
      ],
      "execution_count": null,
      "outputs": [
        {
          "output_type": "stream",
          "text": [
            "27/27 [==============================] - 42s 38ms/step - loss: 0.1146 - accuracy: 0.9710\n"
          ],
          "name": "stdout"
        },
        {
          "output_type": "execute_result",
          "data": {
            "text/plain": [
              "[0.11463350057601929, 0.97099769115448]"
            ]
          },
          "metadata": {
            "tags": []
          },
          "execution_count": 38
        }
      ]
    },
    {
      "cell_type": "code",
      "metadata": {
        "id": "2AGcefszCE8h"
      },
      "source": [
        "#model.save('/content/drive/MyDrive/pattern_project/norm_model_val.h5')"
      ],
      "execution_count": null,
      "outputs": []
    },
    {
      "cell_type": "code",
      "metadata": {
        "colab": {
          "base_uri": "https://localhost:8080/"
        },
        "id": "O3y3TcD9vJ5e",
        "outputId": "4d23cf33-53c8-40ba-864e-d772d1baef9c"
      },
      "source": [
        "len(X_test)/len(x)"
      ],
      "execution_count": null,
      "outputs": [
        {
          "output_type": "execute_result",
          "data": {
            "text/plain": [
              "0.15081206496519722"
            ]
          },
          "metadata": {
            "tags": []
          },
          "execution_count": 268
        }
      ]
    },
    {
      "cell_type": "code",
      "metadata": {
        "id": "IAteAG4mvWvb"
      },
      "source": [
        "Y_pred = np.argmax(n_model.predict(x.reshape(-1, 332, 332, 1)), axis = 1)"
      ],
      "execution_count": null,
      "outputs": []
    },
    {
      "cell_type": "code",
      "metadata": {
        "colab": {
          "base_uri": "https://localhost:8080/"
        },
        "id": "03R0TJqcztlL",
        "outputId": "abddb668-9d2e-4fbf-cada-d54b88c1636c"
      },
      "source": [
        "lb.inverse_transform([0, 1, 2, 3, 4, 5, 6, 7, 8, 9])"
      ],
      "execution_count": null,
      "outputs": [
        {
          "output_type": "execute_result",
          "data": {
            "text/plain": [
              "array(['DNA', 'ER', 'actin', 'endosome', 'golgia', 'golgpp', 'lysosome',\n",
              "       'microtubules', 'mitochondria', 'nucleolus'], dtype='<U12')"
            ]
          },
          "metadata": {
            "tags": []
          },
          "execution_count": 270
        }
      ]
    },
    {
      "cell_type": "code",
      "metadata": {
        "id": "KlkWzQoFyq_B"
      },
      "source": [
        "from sklearn.metrics import classification_report, confusion_matrix"
      ],
      "execution_count": null,
      "outputs": []
    },
    {
      "cell_type": "code",
      "metadata": {
        "colab": {
          "base_uri": "https://localhost:8080/"
        },
        "id": "72Xohn1Xy1Vl",
        "outputId": "fb5e75f2-9bcf-44c2-9f52-f6ad08dd87d2"
      },
      "source": [
        "confusion_matrix(Y_pred, y)"
      ],
      "execution_count": null,
      "outputs": [
        {
          "output_type": "execute_result",
          "data": {
            "text/plain": [
              "array([[86,  7,  0,  0,  0,  0,  0,  0,  0,  0],\n",
              "       [ 0, 65,  0,  0,  0,  0,  0,  0,  0,  0],\n",
              "       [ 1,  2, 98,  2,  0,  0,  1, 28,  0,  0],\n",
              "       [ 0,  0,  0, 79,  0,  0,  5,  0,  0,  0],\n",
              "       [ 0,  0,  0,  0, 38,  2,  0,  0,  0,  0],\n",
              "       [ 0,  0,  0,  0, 19, 61,  0,  0,  0,  0],\n",
              "       [ 0,  1,  0,  4,  0,  0, 76,  0,  0,  0],\n",
              "       [ 0,  8,  0,  4,  0,  1,  1, 63,  0,  1],\n",
              "       [ 0,  3,  0,  2,  0,  1,  1,  0, 73,  0],\n",
              "       [ 0,  0,  0,  0, 30, 20,  0,  0,  0, 79]])"
            ]
          },
          "metadata": {
            "tags": []
          },
          "execution_count": 272
        }
      ]
    },
    {
      "cell_type": "code",
      "metadata": {
        "colab": {
          "base_uri": "https://localhost:8080/",
          "height": 35
        },
        "id": "8QN7tR4zy6j_",
        "outputId": "26db4ccc-47a1-4b0d-a1ff-e4b90462982c"
      },
      "source": [
        "img_dir[0]"
      ],
      "execution_count": null,
      "outputs": [
        {
          "output_type": "execute_result",
          "data": {
            "application/vnd.google.colaboratory.intrinsic+json": {
              "type": "string"
            },
            "text/plain": [
              "'/content/drive/MyDrive/pattern_project/hela/actin/actin_062.tif'"
            ]
          },
          "metadata": {
            "tags": []
          },
          "execution_count": 273
        }
      ]
    },
    {
      "cell_type": "code",
      "metadata": {
        "id": "1sTOX1Zm0azz"
      },
      "source": [
        "import pandas as pd "
      ],
      "execution_count": null,
      "outputs": []
    },
    {
      "cell_type": "code",
      "metadata": {
        "colab": {
          "base_uri": "https://localhost:8080/",
          "height": 35
        },
        "id": "vzJyMcns1Tla",
        "outputId": "0af1457d-4440-4de7-c73a-c814efa091ce"
      },
      "source": [
        "img_dir[0].split(\"/\")[-1]"
      ],
      "execution_count": null,
      "outputs": [
        {
          "output_type": "execute_result",
          "data": {
            "application/vnd.google.colaboratory.intrinsic+json": {
              "type": "string"
            },
            "text/plain": [
              "'actin_062.tif'"
            ]
          },
          "metadata": {
            "tags": []
          },
          "execution_count": 275
        }
      ]
    },
    {
      "cell_type": "code",
      "metadata": {
        "id": "vf9y608N1bil"
      },
      "source": [
        "image_names = np.array([i.split(\"/\")[-1] for i in img_dir])"
      ],
      "execution_count": null,
      "outputs": []
    },
    {
      "cell_type": "code",
      "metadata": {
        "colab": {
          "base_uri": "https://localhost:8080/"
        },
        "id": "OGwsw7OV1hwa",
        "outputId": "6267e1f9-cde3-4dd9-ee17-d9cffb9e3adf"
      },
      "source": [
        "y[1]"
      ],
      "execution_count": null,
      "outputs": [
        {
          "output_type": "execute_result",
          "data": {
            "text/plain": [
              "2"
            ]
          },
          "metadata": {
            "tags": []
          },
          "execution_count": 277
        }
      ]
    },
    {
      "cell_type": "code",
      "metadata": {
        "colab": {
          "base_uri": "https://localhost:8080/"
        },
        "id": "FG0SmaRF19_T",
        "outputId": "15d1ef4a-0f1d-4508-f233-0ef91ee64b5e"
      },
      "source": [
        "image_names.shape"
      ],
      "execution_count": null,
      "outputs": [
        {
          "output_type": "execute_result",
          "data": {
            "text/plain": [
              "(862,)"
            ]
          },
          "metadata": {
            "tags": []
          },
          "execution_count": 278
        }
      ]
    },
    {
      "cell_type": "code",
      "metadata": {
        "id": "UQtUuGwB1MQm"
      },
      "source": [
        "outputs = pd.DataFrame()\n",
        "outputs[\"Image Name\"] = image_names\n",
        "outputs[\"Model Prediction\"] = lb.inverse_transform(Y_pred)\n",
        "outputs[\"Ground Truth\"] = lb.inverse_transform(y)\n",
        "outputs[\"Correct Classification\"] = Y_pred == y"
      ],
      "execution_count": null,
      "outputs": []
    },
    {
      "cell_type": "code",
      "metadata": {
        "colab": {
          "base_uri": "https://localhost:8080/",
          "height": 417
        },
        "id": "V7HHto0w131D",
        "outputId": "f5af6b8c-190a-4da3-af0e-e54c17ac765a"
      },
      "source": [
        "outputs"
      ],
      "execution_count": null,
      "outputs": [
        {
          "output_type": "execute_result",
          "data": {
            "text/html": [
              "<div>\n",
              "<style scoped>\n",
              "    .dataframe tbody tr th:only-of-type {\n",
              "        vertical-align: middle;\n",
              "    }\n",
              "\n",
              "    .dataframe tbody tr th {\n",
              "        vertical-align: top;\n",
              "    }\n",
              "\n",
              "    .dataframe thead th {\n",
              "        text-align: right;\n",
              "    }\n",
              "</style>\n",
              "<table border=\"1\" class=\"dataframe\">\n",
              "  <thead>\n",
              "    <tr style=\"text-align: right;\">\n",
              "      <th></th>\n",
              "      <th>Image Name</th>\n",
              "      <th>Model Prediction</th>\n",
              "      <th>Ground Truth</th>\n",
              "      <th>Correct Classification</th>\n",
              "    </tr>\n",
              "  </thead>\n",
              "  <tbody>\n",
              "    <tr>\n",
              "      <th>0</th>\n",
              "      <td>actin_062.tif</td>\n",
              "      <td>actin</td>\n",
              "      <td>actin</td>\n",
              "      <td>True</td>\n",
              "    </tr>\n",
              "    <tr>\n",
              "      <th>1</th>\n",
              "      <td>actin_063.tif</td>\n",
              "      <td>actin</td>\n",
              "      <td>actin</td>\n",
              "      <td>True</td>\n",
              "    </tr>\n",
              "    <tr>\n",
              "      <th>2</th>\n",
              "      <td>actin_001.tif</td>\n",
              "      <td>actin</td>\n",
              "      <td>actin</td>\n",
              "      <td>True</td>\n",
              "    </tr>\n",
              "    <tr>\n",
              "      <th>3</th>\n",
              "      <td>actin_075.tif</td>\n",
              "      <td>actin</td>\n",
              "      <td>actin</td>\n",
              "      <td>True</td>\n",
              "    </tr>\n",
              "    <tr>\n",
              "      <th>4</th>\n",
              "      <td>actin_002.tif</td>\n",
              "      <td>actin</td>\n",
              "      <td>actin</td>\n",
              "      <td>True</td>\n",
              "    </tr>\n",
              "    <tr>\n",
              "      <th>...</th>\n",
              "      <td>...</td>\n",
              "      <td>...</td>\n",
              "      <td>...</td>\n",
              "      <td>...</td>\n",
              "    </tr>\n",
              "    <tr>\n",
              "      <th>857</th>\n",
              "      <td>nucleolus_055.tif</td>\n",
              "      <td>nucleolus</td>\n",
              "      <td>nucleolus</td>\n",
              "      <td>True</td>\n",
              "    </tr>\n",
              "    <tr>\n",
              "      <th>858</th>\n",
              "      <td>nucleolus_056.tif</td>\n",
              "      <td>nucleolus</td>\n",
              "      <td>nucleolus</td>\n",
              "      <td>True</td>\n",
              "    </tr>\n",
              "    <tr>\n",
              "      <th>859</th>\n",
              "      <td>nucleolus_057.tif</td>\n",
              "      <td>nucleolus</td>\n",
              "      <td>nucleolus</td>\n",
              "      <td>True</td>\n",
              "    </tr>\n",
              "    <tr>\n",
              "      <th>860</th>\n",
              "      <td>nucleolus_058.tif</td>\n",
              "      <td>nucleolus</td>\n",
              "      <td>nucleolus</td>\n",
              "      <td>True</td>\n",
              "    </tr>\n",
              "    <tr>\n",
              "      <th>861</th>\n",
              "      <td>nucleolus_059.tif</td>\n",
              "      <td>nucleolus</td>\n",
              "      <td>nucleolus</td>\n",
              "      <td>True</td>\n",
              "    </tr>\n",
              "  </tbody>\n",
              "</table>\n",
              "<p>862 rows × 4 columns</p>\n",
              "</div>"
            ],
            "text/plain": [
              "            Image Name Model Prediction Ground Truth  Correct Classification\n",
              "0        actin_062.tif            actin        actin                    True\n",
              "1        actin_063.tif            actin        actin                    True\n",
              "2        actin_001.tif            actin        actin                    True\n",
              "3        actin_075.tif            actin        actin                    True\n",
              "4        actin_002.tif            actin        actin                    True\n",
              "..                 ...              ...          ...                     ...\n",
              "857  nucleolus_055.tif        nucleolus    nucleolus                    True\n",
              "858  nucleolus_056.tif        nucleolus    nucleolus                    True\n",
              "859  nucleolus_057.tif        nucleolus    nucleolus                    True\n",
              "860  nucleolus_058.tif        nucleolus    nucleolus                    True\n",
              "861  nucleolus_059.tif        nucleolus    nucleolus                    True\n",
              "\n",
              "[862 rows x 4 columns]"
            ]
          },
          "metadata": {
            "tags": []
          },
          "execution_count": 280
        }
      ]
    },
    {
      "cell_type": "code",
      "metadata": {
        "id": "fjXUS0KO2gDT"
      },
      "source": [
        "#outputs.to_excel(\"outputs.xlsx\", index=False)"
      ],
      "execution_count": null,
      "outputs": []
    },
    {
      "cell_type": "code",
      "metadata": {
        "colab": {
          "base_uri": "https://localhost:8080/"
        },
        "id": "DVqzkJOD-ucm",
        "outputId": "542a5da6-870d-4542-bbb9-428be65d18bb"
      },
      "source": [
        "outputs['Model Prediction'].value_counts()"
      ],
      "execution_count": null,
      "outputs": [
        {
          "output_type": "execute_result",
          "data": {
            "text/plain": [
              "actin           132\n",
              "nucleolus       129\n",
              "DNA              93\n",
              "endosome         84\n",
              "lysosome         81\n",
              "golgpp           80\n",
              "mitochondria     80\n",
              "microtubules     78\n",
              "ER               65\n",
              "golgia           40\n",
              "Name: Model Prediction, dtype: int64"
            ]
          },
          "metadata": {
            "tags": []
          },
          "execution_count": 284
        }
      ]
    },
    {
      "cell_type": "code",
      "metadata": {
        "colab": {
          "base_uri": "https://localhost:8080/",
          "height": 534
        },
        "id": "fsZVXsCV3BYk",
        "outputId": "e19ad6f9-3abf-45f1-d685-0a1c32533fb1"
      },
      "source": [
        "sns.set(rc={'figure.figsize':(15,8.27)})\n",
        "sns.countplot(x=\"Model Prediction\", hue=\"Correct Classification\", data=outputs, palette=\"mako\")"
      ],
      "execution_count": null,
      "outputs": [
        {
          "output_type": "execute_result",
          "data": {
            "text/plain": [
              "<matplotlib.axes._subplots.AxesSubplot at 0x7efdbeee45d0>"
            ]
          },
          "metadata": {
            "tags": []
          },
          "execution_count": 294
        },
        {
          "output_type": "display_data",
          "data": {
            "image/png": "[encoded data removed]",
            "text/plain": [
              "<Figure size 1080x595.44 with 1 Axes>"
            ]
          },
          "metadata": {
            "tags": []
          }
        }
      ]
    },
    {
      "cell_type": "code",
      "metadata": {
        "id": "ZTmScEA-_3OI"
      },
      "source": [
        ""
      ],
      "execution_count": null,
      "outputs": []
    }
  ]
}